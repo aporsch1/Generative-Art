{
 "cells": [
  {
   "cell_type": "code",
   "execution_count": 2,
   "metadata": {},
   "outputs": [],
   "source": [
    "import pandas as pd\n",
    "import numpy as np\n",
    "import os\n",
    "import random\n",
    "import math\n",
    "import time\n",
    "from PIL import Image\n",
    "from PyQt5.QtGui import QColor, QPen, QPixmap\n",
    "from PyQt5.QtCore import QPointF, QRect\n",
    "import painter\n",
    "from utils import QColor_HSV, save, Perlin2D"
   ]
  },
  {
   "cell_type": "code",
   "execution_count": 39,
   "metadata": {},
   "outputs": [
    {
     "name": "stdout",
     "output_type": "stream",
     "text": [
      "Creating Noise...\n",
      "Noise Generated!\n",
      "100.0% Complete\r"
     ]
    }
   ],
   "source": [
    "def draw(width, height, color=700, backgroundColor=(0,0,0), perlinFactorW=2, perlinFactorH=2, step=0.001):\n",
    "    seed = random.randint(0, 100000000)\n",
    "\n",
    "    # Set the random seed for repeatability\n",
    "    np.random.seed(seed)\n",
    "\n",
    "    p = painter.Painter(width, height)\n",
    "\n",
    "    # Allow smooth drawing\n",
    "    p.setRenderHint(p.Antialiasing)\n",
    "\n",
    "    # Draw the background color\n",
    "    p.fillRect(0, 0, width, height, QColor( *backgroundColor ))\n",
    "\n",
    "    # Set the pen color\n",
    "    #p.setPen(QPen(QColor(150, 150, 225, 5), 2))-> more yellow->blue spectrum with mostly blues and greens\n",
    "    p.setPen(QPen(QColor(755, 550, 100, 5), 2))\n",
    "    \n",
    "    print('Creating Noise...')\n",
    "    p_noise = Perlin2D(width, height, perlinFactorW, perlinFactorH)\n",
    "    print('Noise Generated!')\n",
    "\n",
    "    MAX_LENGTH = 2 * width\n",
    "    STEP_SIZE = step * max(width, height)\n",
    "    NUM = int(width * height / 1000)\n",
    "    POINTS = [(random.randint(0, width - 1), random.randint(0, height - 1)) for i in range(NUM)]\n",
    "\n",
    "    for k, (x_s, y_s) in enumerate(POINTS):\n",
    "        print(f'{100 * (k + 1) / len(POINTS):.1f}'.rjust(5) + '% Complete', end='\\r')\n",
    "\n",
    "        # The current line length tracking variable\n",
    "        c_len = 0\n",
    "\n",
    "        # Actually draw the flow field\n",
    "        while c_len < MAX_LENGTH:\n",
    "            # Set the pen color for this segment\n",
    "            sat = 200 * (MAX_LENGTH - c_len) / MAX_LENGTH\n",
    "            hue = (color + 130 * (height - y_s) / height) % 360\n",
    "            p.setPen(QPen(QColor_HSV(hue, sat, 255, 20), 2))\n",
    "\n",
    "            # angle between -pi and pi\n",
    "            angle = p_noise[int(x_s), int(y_s)] * math.pi\n",
    "\n",
    "            # Compute the new point\n",
    "            x_f = x_s + STEP_SIZE * math.cos(angle)\n",
    "            y_f = y_s + STEP_SIZE * math.sin(angle)\n",
    "\n",
    "            # Draw the line\n",
    "            p.drawLine(QPointF(x_s, y_s), QPointF(x_f, y_f))\n",
    "\n",
    "            # Update the line length\n",
    "            c_len += math.sqrt((x_f - x_s) ** 2 + (y_f - y_s) ** 2)\n",
    "\n",
    "            # Break from the loop if the new point is outside our image bounds\n",
    "            # or if we've exceeded the line length; otherwise update the point\n",
    "            if x_f < 0 or x_f >= width or y_f < 0 or y_f >= height or c_len > MAX_LENGTH:\n",
    "                break\n",
    "            else:\n",
    "                x_s, y_s = x_f, y_f\n",
    "\n",
    "    save(p, fname=f'image_{seed}', folder='.', overwrite=True)\n",
    "\n",
    "draw(3000, 2000, color=270, perlinFactorW=3, perlinFactorH=5, step=.0002)\n",
    "#163 is a nice blue/purple, 63 is a blue/yellow/green"
   ]
  },
  {
   "cell_type": "markdown",
   "metadata": {},
   "source": [
    "The code above creates *flow fields* using *Perlin noise* which is a classic algorithmic art technique."
   ]
  }
 ],
 "metadata": {
  "kernelspec": {
   "display_name": "base",
   "language": "python",
   "name": "python3"
  },
  "language_info": {
   "codemirror_mode": {
    "name": "ipython",
    "version": 3
   },
   "file_extension": ".py",
   "mimetype": "text/x-python",
   "name": "python",
   "nbconvert_exporter": "python",
   "pygments_lexer": "ipython3",
   "version": "3.12.1"
  }
 },
 "nbformat": 4,
 "nbformat_minor": 2
}
